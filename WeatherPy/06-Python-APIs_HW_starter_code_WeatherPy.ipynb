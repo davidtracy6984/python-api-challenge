{
 "cells": [
  {
   "cell_type": "markdown",
   "metadata": {},
   "source": [
    "# WeatherPy\n",
    "----\n",
    "\n",
    "#### Note\n",
    "* Instructions have been included for each segment. You do not have to follow them exactly, but they are included to help you think through the steps."
   ]
  },
  {
   "cell_type": "code",
   "execution_count": 2,
   "metadata": {
    "scrolled": true
   },
   "outputs": [],
   "source": [
    "# Dependencies and Setup\n",
    "import matplotlib.pyplot as plt\n",
    "import pandas as pd\n",
    "import numpy as np\n",
    "import requests\n",
    "import time\n",
    "from scipy.stats import linregress\n",
    "\n",
    "# Import API key\n",
    "from api_keys import weather_api_key\n",
    "\n",
    "# Incorporated citipy to determine city based on latitude and longitude\n",
    "from citipy import citipy\n",
    "\n",
    "# Output File (CSV)\n",
    "output_data_file = \"output_data/cities.csv\"\n",
    "\n",
    "# Range of latitudes and longitudes\n",
    "lat_range = (-90, 90)\n",
    "lng_range = (-180, 180)"
   ]
  },
  {
   "cell_type": "markdown",
   "metadata": {},
   "source": [
    "## Generate Cities List"
   ]
  },
  {
   "cell_type": "code",
   "execution_count": 3,
   "metadata": {},
   "outputs": [
    {
     "data": {
      "text/plain": [
       "639"
      ]
     },
     "execution_count": 3,
     "metadata": {},
     "output_type": "execute_result"
    }
   ],
   "source": [
    "# List for holding lat_lngs and cities\n",
    "lat_lngs = []\n",
    "cities = []\n",
    "\n",
    "# Create a set of random lat and lng combinations\n",
    "lats = np.random.uniform(lat_range[0], lat_range[1], size=1500)\n",
    "lngs = np.random.uniform(lng_range[0], lng_range[1], size=1500)\n",
    "lat_lngs = zip(lats, lngs)\n",
    "\n",
    "# Identify nearest city for each lat, lng combination\n",
    "for lat_lng in lat_lngs:\n",
    "    city = citipy.nearest_city(lat_lng[0], lat_lng[1]).city_name\n",
    "    \n",
    "    # If the city is unique, then add it to a our cities list\n",
    "    if city not in cities:\n",
    "        cities.append(city)\n",
    "\n",
    "# Print the city count to confirm sufficient count\n",
    "len(cities)"
   ]
  },
  {
   "cell_type": "code",
   "execution_count": 4,
   "metadata": {},
   "outputs": [
    {
     "data": {
      "text/plain": [
       "['magistralnyy',\n",
       " 'traralgon',\n",
       " 'yerbogachen',\n",
       " 'tasiilaq',\n",
       " 'sentyabrskiy',\n",
       " 'albany',\n",
       " 'christchurch',\n",
       " 'atuona',\n",
       " 'whithorn',\n",
       " 'bambous virieux',\n",
       " 'talnakh',\n",
       " 'puerto ayora',\n",
       " 'bredasdorp',\n",
       " 'amderma',\n",
       " 'hobart',\n",
       " 'ushuaia',\n",
       " 'saint-malo',\n",
       " 'baykit',\n",
       " 'sitka',\n",
       " 'alice springs',\n",
       " 'hithadhoo',\n",
       " 'ende',\n",
       " 'barrow',\n",
       " 'virginia beach',\n",
       " 'jardim',\n",
       " 'cabo san lucas',\n",
       " 'rikitea',\n",
       " 'wichita falls',\n",
       " 'vaini',\n",
       " 'umm lajj',\n",
       " 'tiksi',\n",
       " 'kruisfontein',\n",
       " 'pisco',\n",
       " 'fortuna',\n",
       " 'mys shmidta',\n",
       " 'codrington',\n",
       " 'mataura',\n",
       " 'georgetown',\n",
       " 'arraial do cabo',\n",
       " 'beringovskiy',\n",
       " 'nikolskoye',\n",
       " 'comodoro rivadavia',\n",
       " 'hovd',\n",
       " 'san carlos de bariloche',\n",
       " 'jamestown',\n",
       " 'saint-augustin',\n",
       " 'luxor',\n",
       " 'sobolevo',\n",
       " 'khatanga',\n",
       " 'yellowknife',\n",
       " 'jingdezhen',\n",
       " 'thompson',\n",
       " 'saskylakh',\n",
       " 'solnechnyy',\n",
       " 'cullman',\n",
       " 'karad',\n",
       " 'naze',\n",
       " 'ancud',\n",
       " 'illoqqortoormiut',\n",
       " 'sulangan',\n",
       " 'ahualulco',\n",
       " 'nizhneyansk',\n",
       " 'kununurra',\n",
       " 'jalu',\n",
       " 'esperance',\n",
       " 'atambua',\n",
       " 'hermanus',\n",
       " 'kavieng',\n",
       " 'barentsburg',\n",
       " 'butaritari',\n",
       " 'belushya guba',\n",
       " 'ponta do sol',\n",
       " 'tsihombe',\n",
       " 'ribeira grande',\n",
       " 'manavgat',\n",
       " 'castro',\n",
       " 'longyearbyen',\n",
       " 'kathu',\n",
       " 'avarua',\n",
       " 'punta arenas',\n",
       " 'saldanha',\n",
       " 'burica',\n",
       " 'bluff',\n",
       " 'airai',\n",
       " 'pali',\n",
       " 'constitucion',\n",
       " 'ulladulla',\n",
       " 'katsuura',\n",
       " 'santo antonio do ica',\n",
       " 'ostrovnoy',\n",
       " 'cidreira',\n",
       " 'grand river south east',\n",
       " 'bengkulu',\n",
       " 'popondetta',\n",
       " 'kapaa',\n",
       " 'doctor arroyo',\n",
       " 'lebu',\n",
       " 'bundaberg',\n",
       " 'torbay',\n",
       " 'eirunepe',\n",
       " 'borazjan',\n",
       " 'ola',\n",
       " 'kaitangata',\n",
       " 'victoria',\n",
       " 'svobody',\n",
       " 'vershino-darasunskiy',\n",
       " 'dehloran',\n",
       " 'roald',\n",
       " 'maldonado',\n",
       " 'kortkeros',\n",
       " 'dikson',\n",
       " 'inuvik',\n",
       " 'tevriz',\n",
       " 'sawakin',\n",
       " 'srednekolymsk',\n",
       " 'new norfolk',\n",
       " 'cape town',\n",
       " 'aras',\n",
       " 'chambas',\n",
       " 'broken hill',\n",
       " 'tuktoyaktuk',\n",
       " 'dalby',\n",
       " 'gibsons',\n",
       " 'ulaangom',\n",
       " 'kabinda',\n",
       " 'aklavik',\n",
       " 'de-kastri',\n",
       " 'inhambane',\n",
       " 'valparaiso',\n",
       " 'bunia',\n",
       " 'severo-kurilsk',\n",
       " 'ihosy',\n",
       " 'valleyview',\n",
       " 'kenora',\n",
       " 'vetralla',\n",
       " 'gangotri',\n",
       " 'ahipara',\n",
       " 'banmo',\n",
       " 'attawapiskat',\n",
       " 'lolua',\n",
       " 'temaraia',\n",
       " 'russell',\n",
       " 'narathiwat',\n",
       " 'yomou',\n",
       " 'saint-philippe',\n",
       " 'karaul',\n",
       " 'pingzhuang',\n",
       " 'qaanaaq',\n",
       " 'san patricio',\n",
       " 'san cristobal',\n",
       " 'yakima',\n",
       " 'kodinsk',\n",
       " 'mananjary',\n",
       " 'san andres',\n",
       " 'guanica',\n",
       " 'kaeo',\n",
       " 'altamont',\n",
       " 'toamasina',\n",
       " 'yuryevets',\n",
       " 'taolanaro',\n",
       " 'karamea',\n",
       " 'chokurdakh',\n",
       " 'port blair',\n",
       " 'takoradi',\n",
       " 'necochea',\n",
       " 'kloulklubed',\n",
       " 'fuyu',\n",
       " 'hasaki',\n",
       " 'saint george',\n",
       " 'witu',\n",
       " 'bouna',\n",
       " 'dingle',\n",
       " 'mende',\n",
       " 'harlingen',\n",
       " 'saint-pierre',\n",
       " 'semnan',\n",
       " 'haines junction',\n",
       " 'port elizabeth',\n",
       " 'hilo',\n",
       " 'dhidhdhoo',\n",
       " 'khani',\n",
       " 'mar del plata',\n",
       " 'tilichiki',\n",
       " 'dickinson',\n",
       " 'deputatskiy',\n",
       " 'chuy',\n",
       " 'belmonte',\n",
       " 'biak',\n",
       " 'kem',\n",
       " 'faanui',\n",
       " 'mnogovershinnyy',\n",
       " 'fukuma',\n",
       " 'emerald',\n",
       " 'doha',\n",
       " 'esso',\n",
       " 'goderich',\n",
       " 'iskateley',\n",
       " 'henties bay',\n",
       " 'cayhagan',\n",
       " 'asau',\n",
       " 'acapulco',\n",
       " 'vostok',\n",
       " 'busselton',\n",
       " 'edson',\n",
       " 'port alfred',\n",
       " 'vorukh',\n",
       " 'yumen',\n",
       " 'tecoanapa',\n",
       " 'bonthe',\n",
       " 'kodiak',\n",
       " 'guerrero negro',\n",
       " 'arkhangelskoye',\n",
       " 'george town',\n",
       " 'isangel',\n",
       " 'mandan',\n",
       " 'okhotsk',\n",
       " 'bonavista',\n",
       " 'buchanan',\n",
       " 'tuatapere',\n",
       " 'warmbad',\n",
       " 'kungurtug',\n",
       " 'east london',\n",
       " 'monze',\n",
       " 'whitianga',\n",
       " 'turukhansk',\n",
       " 'taunggyi',\n",
       " 'tulum',\n",
       " 'morro bay',\n",
       " 'pevek',\n",
       " 'mitu',\n",
       " 'mayumba',\n",
       " 'tiangua',\n",
       " 'edd',\n",
       " 'college',\n",
       " 'karaton',\n",
       " 'alpena',\n",
       " 'abonnema',\n",
       " 'strezhevoy',\n",
       " 'cherskiy',\n",
       " 'vagay',\n",
       " 'launceston',\n",
       " 'shelburne',\n",
       " 'batemans bay',\n",
       " 'bilma',\n",
       " 'shimoda',\n",
       " 'coolum beach',\n",
       " 'channel-port aux basques',\n",
       " 'gravdal',\n",
       " 'shaoguan',\n",
       " 'bud',\n",
       " 'simao',\n",
       " 'ondangwa',\n",
       " 'mandalgovi',\n",
       " 'benguela',\n",
       " 'hambantota',\n",
       " 'severnyy',\n",
       " 'lompoc',\n",
       " 'grafton',\n",
       " 'salalah',\n",
       " 'sao gabriel da cachoeira',\n",
       " 'klaksvik',\n",
       " 'alofi',\n",
       " 'chapais',\n",
       " 'pinyug',\n",
       " 'upernavik',\n",
       " 'banjar',\n",
       " 'guozhen',\n",
       " 'saint-joseph',\n",
       " 'bathsheba',\n",
       " 'camana',\n",
       " 'talcahuano',\n",
       " 'hamilton',\n",
       " 'kalabo',\n",
       " 'quatre cocos',\n",
       " 'pangody',\n",
       " 'ilulissat',\n",
       " 'pombia',\n",
       " 'dalton',\n",
       " 'yaan',\n",
       " 'umzimvubu',\n",
       " 'dawei',\n",
       " 'coihaique',\n",
       " 'mount isa',\n",
       " 'kouango',\n",
       " 'khorixas',\n",
       " 'batetskiy',\n",
       " 'hammerfest',\n",
       " 'terme',\n",
       " 'shintomi',\n",
       " 'agadir',\n",
       " 'lorengau',\n",
       " 'oga',\n",
       " 'souillac',\n",
       " 'basco',\n",
       " 'boende',\n",
       " 'zyryanka',\n",
       " 'reconquista',\n",
       " 'asfi',\n",
       " 'monterey',\n",
       " 'polyarnyy',\n",
       " 'dryden',\n",
       " 'hatillo',\n",
       " 'westlake',\n",
       " 'vila',\n",
       " 'provideniya',\n",
       " 'mahebourg',\n",
       " 'kidal',\n",
       " 'la ronge',\n",
       " 'bokspits',\n",
       " 'kalmunai',\n",
       " 'melo',\n",
       " 'lang son',\n",
       " 'alekseyevka',\n",
       " 'nara',\n",
       " 'kalispell',\n",
       " 'howard springs',\n",
       " 'vaitupu',\n",
       " 'iracoubo',\n",
       " 'honiara',\n",
       " 'bethel',\n",
       " 'cheremukhovo',\n",
       " 'hobyo',\n",
       " 'havre-saint-pierre',\n",
       " 'aksha',\n",
       " 'alyangula',\n",
       " 'betanzos',\n",
       " 'revelstoke',\n",
       " 'medea',\n",
       " 'dekoa',\n",
       " 'hualmay',\n",
       " 'asyut',\n",
       " 'miandrivazo',\n",
       " 'idah',\n",
       " 'papar',\n",
       " 'digby',\n",
       " 'avera',\n",
       " 'verkhoyansk',\n",
       " 'buta',\n",
       " 'gobindpur',\n",
       " 'nedjo',\n",
       " 'jumla',\n",
       " 'zabol',\n",
       " 'staunton',\n",
       " 'vanimo',\n",
       " 'margate',\n",
       " 'egvekinot',\n",
       " 'roros',\n",
       " 'touros',\n",
       " 'puerto del rosario',\n",
       " 'lindenberg',\n",
       " 'bur gabo',\n",
       " 'flinders',\n",
       " 'padang',\n",
       " 'longlac',\n",
       " 'sao filipe',\n",
       " 'rungata',\n",
       " 'ngukurr',\n",
       " 'skrunda',\n",
       " 'saint-francois',\n",
       " 'huari',\n",
       " 'nishihara',\n",
       " 'narsaq',\n",
       " 'atar',\n",
       " 'bara',\n",
       " 'carnarvon',\n",
       " 'dasoguz',\n",
       " 'nizwa',\n",
       " 'rawannawi',\n",
       " 'litoral del san juan',\n",
       " 'hay river',\n",
       " 'bolungarvik',\n",
       " 'bani walid',\n",
       " 'sakakah',\n",
       " 'afrikanda',\n",
       " 'clinton',\n",
       " 'laukaa',\n",
       " 'svetlogorsk',\n",
       " 'sembe',\n",
       " 'tommot',\n",
       " 'chipata',\n",
       " 'tura',\n",
       " 'pascagoula',\n",
       " 'laguna',\n",
       " 'kincardine',\n",
       " 'portage',\n",
       " 'shahgarh',\n",
       " 'dwarka',\n",
       " 'te anau',\n",
       " 'the valley',\n",
       " 'ruatoria',\n",
       " 'bella vista',\n",
       " 'bourail',\n",
       " 'berdigestyakh',\n",
       " 'reedley',\n",
       " 'fort-shevchenko',\n",
       " 'elesbao veloso',\n",
       " 'grand baie',\n",
       " 'denia',\n",
       " 'gulf gate estates',\n",
       " 'rockport',\n",
       " 'noumea',\n",
       " 'keuruu',\n",
       " 'sikonge',\n",
       " 'san quintin',\n",
       " 'canitas',\n",
       " 'sidi bin nur',\n",
       " 'lisakovsk',\n",
       " 'bogande',\n",
       " 'voronovytsya',\n",
       " 'inirida',\n",
       " 'buala',\n",
       " 'antofagasta',\n",
       " 'kavaratti',\n",
       " 'manihari',\n",
       " 'saint anthony',\n",
       " 'lazaro cardenas',\n",
       " 'chabahar',\n",
       " 'karasuk',\n",
       " 'bodaybo',\n",
       " 'coruripe',\n",
       " 'forio',\n",
       " 'elizabethton',\n",
       " 'hofn',\n",
       " 'buraydah',\n",
       " 'norman wells',\n",
       " 'halifax',\n",
       " 'marsa matruh',\n",
       " 'port macquarie',\n",
       " 'namatanai',\n",
       " 'vertientes',\n",
       " 'goure',\n",
       " 'mallaig',\n",
       " 'haibowan',\n",
       " 'portland',\n",
       " 'kinablangan',\n",
       " 'makakilo city',\n",
       " 'isla vista',\n",
       " 'rawson',\n",
       " 'nizhniy kuranakh',\n",
       " 'zaragoza',\n",
       " 'kitimat',\n",
       " 'dicabisagan',\n",
       " 'kawana waters',\n",
       " 'araouane',\n",
       " 'ampanihy',\n",
       " 'sambava',\n",
       " 'karratha',\n",
       " 'jimeta',\n",
       " 'mandurah',\n",
       " 'kuche',\n",
       " 'ebebiyin',\n",
       " 'shieli',\n",
       " 'clyde river',\n",
       " 'labutta',\n",
       " 'rincon',\n",
       " 'ecublens',\n",
       " 'santa ana',\n",
       " 'dolbeau',\n",
       " 'kota kinabalu',\n",
       " 'qaqortoq',\n",
       " 'batagay-alyta',\n",
       " 'muscle shoals',\n",
       " 'vardo',\n",
       " 'shingu',\n",
       " 'vung tau',\n",
       " 'arona',\n",
       " 'mount gambier',\n",
       " 'pemangkat',\n",
       " 'mirina',\n",
       " 'cap-aux-meules',\n",
       " 'ayagoz',\n",
       " 'gabu',\n",
       " 'katrineholm',\n",
       " 'mukhen',\n",
       " 'les cayes',\n",
       " 'heishan',\n",
       " 'svetlaya',\n",
       " 'labuhan',\n",
       " 'moindou',\n",
       " 'azimur',\n",
       " 'lagoa',\n",
       " 'pitanga',\n",
       " 'bogashevo',\n",
       " 'amga',\n",
       " 'anchorage',\n",
       " 'atyrau',\n",
       " 'arman',\n",
       " 'uruacu',\n",
       " 'tautira',\n",
       " 'saint combs',\n",
       " 'ushtobe',\n",
       " 'cockburn town',\n",
       " 'keshan',\n",
       " 'salinopolis',\n",
       " 'ratnagiri',\n",
       " 'kirensk',\n",
       " 'erzin',\n",
       " 'sayyan',\n",
       " 'sokoto',\n",
       " 'totma',\n",
       " 'new port richey',\n",
       " 'whitefish',\n",
       " 'halalo',\n",
       " 'xining',\n",
       " 'matara',\n",
       " 'mehamn',\n",
       " 'samarinda',\n",
       " 'kemin',\n",
       " 'sindand',\n",
       " 'wanning',\n",
       " 'shiyan',\n",
       " 'hurghada',\n",
       " 'mormugao',\n",
       " 'waipawa',\n",
       " 'madison',\n",
       " 'ocos',\n",
       " 'tungkang',\n",
       " 'la sarre',\n",
       " 'guantanamo',\n",
       " 'andenes',\n",
       " 'middleton',\n",
       " 'xichang',\n",
       " 'camacha',\n",
       " 'nanortalik',\n",
       " 'aswan',\n",
       " 'raposa',\n",
       " 'excelsior springs',\n",
       " 'dunedin',\n",
       " 'limoux',\n",
       " 'murray bridge',\n",
       " 'sola',\n",
       " 'kosh-agach',\n",
       " 'palabuhanratu',\n",
       " 'yeppoon',\n",
       " 'warburton',\n",
       " 'hihifo',\n",
       " 'huanuni',\n",
       " 'horsham',\n",
       " 'bargal',\n",
       " 'nouadhibou',\n",
       " 'lafiagi',\n",
       " 'rajapalaiyam',\n",
       " 'invermere',\n",
       " 'yar-sale',\n",
       " 'manjeshwar',\n",
       " 'lavras',\n",
       " 'pangkalanbuun',\n",
       " 'muzhi',\n",
       " 'iquique',\n",
       " 'gat',\n",
       " 'great yarmouth',\n",
       " 'misawa',\n",
       " 'mayor pablo lagerenza',\n",
       " 'kieta',\n",
       " 'namikupa',\n",
       " 'slupsk',\n",
       " 'bacuit',\n",
       " 'pangnirtung',\n",
       " 'severodvinsk',\n",
       " 'iqaluit',\n",
       " 'florianopolis',\n",
       " 'berezovka',\n",
       " 'kahului',\n",
       " 'vega de alatorre',\n",
       " 'cumberland',\n",
       " 'broome',\n",
       " 'estelle',\n",
       " 'plettenberg bay',\n",
       " 'emirdag',\n",
       " 'tete',\n",
       " 'eskasem',\n",
       " 'ulaanbaatar',\n",
       " 'ermioni',\n",
       " 'praya',\n",
       " 'jesus maria',\n",
       " 'kentville',\n",
       " 'vicuna',\n",
       " 'placido de castro',\n",
       " 'la palma',\n",
       " 'sehithwa',\n",
       " 'fort nelson',\n",
       " 'maniitsoq',\n",
       " 'dehri',\n",
       " 'nelidovo',\n",
       " 'puerto escondido',\n",
       " 'udine',\n",
       " 'parsabad',\n",
       " 'olafsvik',\n",
       " 'evensk',\n",
       " 'elmira',\n",
       " 'bestobe',\n",
       " 'muros',\n",
       " 'taoudenni',\n",
       " 'grindavik',\n",
       " 'gizo',\n",
       " 'wattegama',\n",
       " 'zhangjiakou',\n",
       " 'xiongshi',\n",
       " 'tomatlan',\n",
       " 'panzhihua',\n",
       " 'kulhudhuffushi',\n",
       " 'vestmannaeyjar',\n",
       " 'port lincoln',\n",
       " 'kajaani',\n",
       " 'bodmin',\n",
       " 'marovoay',\n",
       " 'richards bay',\n",
       " 'nebolchi',\n",
       " 'cagayan de tawi-tawi',\n",
       " 'saleaula',\n",
       " 'sylvan lake',\n",
       " 'namibe',\n",
       " 'nampula',\n",
       " 'acari',\n",
       " 'port augusta',\n",
       " 'bhopal',\n",
       " 'warqla',\n",
       " 'labuan',\n",
       " 'kuusamo',\n",
       " 'seguin',\n",
       " 'burns lake',\n",
       " 'dauphin',\n",
       " 'san vicente',\n",
       " 'nome',\n",
       " 'coquimbo',\n",
       " 'riberalta',\n",
       " 'porto novo',\n",
       " 'yambio',\n",
       " 'mergui',\n",
       " 'bairiki',\n",
       " 'bubaque',\n",
       " 'long beach',\n",
       " 'almaznyy',\n",
       " 'toftir',\n",
       " 'saint-ambroise',\n",
       " 'murgab',\n",
       " 'hargeysa',\n",
       " 'sharjah',\n",
       " 'brighouse']"
      ]
     },
     "execution_count": 4,
     "metadata": {},
     "output_type": "execute_result"
    }
   ],
   "source": [
    "cities\n"
   ]
  },
  {
   "cell_type": "markdown",
   "metadata": {},
   "source": [
    "### Perform API Calls\n",
    "* Perform a weather check on each city using a series of successive API calls.\n",
    "* Include a print log of each city as it'sbeing processed (with the city number and city name).\n"
   ]
  },
  {
   "cell_type": "code",
   "execution_count": 5,
   "metadata": {},
   "outputs": [],
   "source": [
    "query_url = \"http://api.openweathermap.org/data/2.5/weather?units=Imperial&APPID=\" + weather_api_key\n",
    "     "
   ]
  },
  {
   "cell_type": "code",
   "execution_count": 6,
   "metadata": {},
   "outputs": [
    {
     "name": "stdout",
     "output_type": "stream",
     "text": [
      "The city was not found.\n",
      "The city was not found.\n",
      "The city was not found.\n",
      "The city was not found.\n",
      "The city was not found.\n",
      "The city was not found.\n",
      "The city was not found.\n",
      "The city was not found.\n",
      "The city was not found.\n",
      "The city was not found.\n",
      "The city was not found.\n",
      "The city was not found.\n",
      "The city was not found.\n",
      "The city was not found.\n",
      "The city was not found.\n",
      "The city was not found.\n",
      "The city was not found.\n",
      "The city was not found.\n",
      "The city was not found.\n",
      "The city was not found.\n",
      "The city was not found.\n",
      "The city was not found.\n",
      "The city was not found.\n",
      "The city was not found.\n",
      "The city was not found.\n",
      "The city was not found.\n",
      "The city was not found.\n",
      "The city was not found.\n",
      "The city was not found.\n",
      "The city was not found.\n",
      "The city was not found.\n",
      "The city was not found.\n",
      "The city was not found.\n",
      "The city was not found.\n",
      "The city was not found.\n",
      "The city was not found.\n",
      "The city was not found.\n",
      "The city was not found.\n",
      "The city was not found.\n",
      "The city was not found.\n",
      "The city was not found.\n",
      "The city was not found.\n",
      "The city was not found.\n",
      "The city was not found.\n",
      "The city was not found.\n",
      "The city was not found.\n",
      "The city was not found.\n",
      "The city was not found.\n",
      "The city was not found.\n",
      "The city was not found.\n",
      "The city was not found.\n",
      "The city was not found.\n",
      "The city was not found.\n",
      "The city was not found.\n"
     ]
    }
   ],
   "source": [
    "# set up lists to hold reponse info\n",
    "lat = []\n",
    "lng = []\n",
    "temp = []\n",
    "humidity = []\n",
    "wind_speed = []\n",
    "cloud_cover = []\n",
    "city_list = []\n",
    "country = []\n",
    "date = []\n",
    "\n",
    "for city in cities:\n",
    "    response = requests.get(f\"{query_url}&q={city}\").json()\n",
    "    try:\n",
    "        lat.append(response['coord']['lat'])\n",
    "        lng.append(response['coord']['lon'])\n",
    "        temp.append(response['main']['temp'])\n",
    "        humidity.append(response['main']['humidity'])\n",
    "        wind_speed.append(response['wind']['speed'])\n",
    "        cloud_cover.append(response['clouds']['all'])\n",
    "        country.append(response['sys']['country'])\n",
    "        date.append(response['dt'])\n",
    "        city_list.append(city)\n",
    "    except KeyError:\n",
    "        print (\"The city was not found.\")\n",
    "  \n"
   ]
  },
  {
   "cell_type": "code",
   "execution_count": 7,
   "metadata": {},
   "outputs": [],
   "source": [
    "#print(lat)"
   ]
  },
  {
   "cell_type": "markdown",
   "metadata": {},
   "source": [
    "### Convert Raw Data to DataFrame\n",
    "* Export the city data into a .csv.\n",
    "* Display the DataFrame"
   ]
  },
  {
   "cell_type": "code",
   "execution_count": 8,
   "metadata": {},
   "outputs": [
    {
     "data": {
      "text/html": [
       "<div>\n",
       "<style scoped>\n",
       "    .dataframe tbody tr th:only-of-type {\n",
       "        vertical-align: middle;\n",
       "    }\n",
       "\n",
       "    .dataframe tbody tr th {\n",
       "        vertical-align: top;\n",
       "    }\n",
       "\n",
       "    .dataframe thead th {\n",
       "        text-align: right;\n",
       "    }\n",
       "</style>\n",
       "<table border=\"1\" class=\"dataframe\">\n",
       "  <thead>\n",
       "    <tr style=\"text-align: right;\">\n",
       "      <th></th>\n",
       "      <th>lat</th>\n",
       "      <th>lng</th>\n",
       "      <th>temp</th>\n",
       "      <th>humidity</th>\n",
       "      <th>wind_speed</th>\n",
       "      <th>cloud_cover</th>\n",
       "      <th>city_list</th>\n",
       "      <th>country</th>\n",
       "      <th>date</th>\n",
       "    </tr>\n",
       "  </thead>\n",
       "  <tbody>\n",
       "    <tr>\n",
       "      <td>0</td>\n",
       "      <td>56.17</td>\n",
       "      <td>107.45</td>\n",
       "      <td>36.59</td>\n",
       "      <td>82</td>\n",
       "      <td>8.86</td>\n",
       "      <td>74</td>\n",
       "      <td>magistralnyy</td>\n",
       "      <td>RU</td>\n",
       "      <td>1588788362</td>\n",
       "    </tr>\n",
       "    <tr>\n",
       "      <td>1</td>\n",
       "      <td>-38.18</td>\n",
       "      <td>146.53</td>\n",
       "      <td>46.00</td>\n",
       "      <td>96</td>\n",
       "      <td>1.30</td>\n",
       "      <td>98</td>\n",
       "      <td>traralgon</td>\n",
       "      <td>AU</td>\n",
       "      <td>1588788362</td>\n",
       "    </tr>\n",
       "    <tr>\n",
       "      <td>2</td>\n",
       "      <td>61.28</td>\n",
       "      <td>108.01</td>\n",
       "      <td>28.08</td>\n",
       "      <td>97</td>\n",
       "      <td>10.67</td>\n",
       "      <td>100</td>\n",
       "      <td>yerbogachen</td>\n",
       "      <td>RU</td>\n",
       "      <td>1588788362</td>\n",
       "    </tr>\n",
       "    <tr>\n",
       "      <td>3</td>\n",
       "      <td>65.61</td>\n",
       "      <td>-37.64</td>\n",
       "      <td>33.80</td>\n",
       "      <td>69</td>\n",
       "      <td>9.17</td>\n",
       "      <td>75</td>\n",
       "      <td>tasiilaq</td>\n",
       "      <td>GL</td>\n",
       "      <td>1588788363</td>\n",
       "    </tr>\n",
       "    <tr>\n",
       "      <td>4</td>\n",
       "      <td>42.60</td>\n",
       "      <td>-73.97</td>\n",
       "      <td>56.19</td>\n",
       "      <td>33</td>\n",
       "      <td>2.82</td>\n",
       "      <td>98</td>\n",
       "      <td>albany</td>\n",
       "      <td>US</td>\n",
       "      <td>1588788363</td>\n",
       "    </tr>\n",
       "  </tbody>\n",
       "</table>\n",
       "</div>"
      ],
      "text/plain": [
       "     lat     lng   temp  humidity  wind_speed  cloud_cover     city_list  \\\n",
       "0  56.17  107.45  36.59        82        8.86           74  magistralnyy   \n",
       "1 -38.18  146.53  46.00        96        1.30           98     traralgon   \n",
       "2  61.28  108.01  28.08        97       10.67          100   yerbogachen   \n",
       "3  65.61  -37.64  33.80        69        9.17           75      tasiilaq   \n",
       "4  42.60  -73.97  56.19        33        2.82           98        albany   \n",
       "\n",
       "  country        date  \n",
       "0      RU  1588788362  \n",
       "1      AU  1588788362  \n",
       "2      RU  1588788362  \n",
       "3      GL  1588788363  \n",
       "4      US  1588788363  "
      ]
     },
     "execution_count": 8,
     "metadata": {},
     "output_type": "execute_result"
    }
   ],
   "source": [
    "weather_dict = {\n",
    "    \"lat\": lat,\n",
    "    \"lng\": lng,\n",
    "    \"temp\": temp,\n",
    "    \"humidity\": humidity,\n",
    "    \"wind_speed\":wind_speed,\n",
    "    \"cloud_cover\":cloud_cover,\n",
    "    \"city_list\":city_list,\n",
    "    \"country\":country,\n",
    "    \"date\":date\n",
    "}\n",
    "weather_data = pd.DataFrame(weather_dict)\n",
    "weather_data.head()"
   ]
  },
  {
   "cell_type": "code",
   "execution_count": null,
   "metadata": {},
   "outputs": [],
   "source": []
  },
  {
   "cell_type": "markdown",
   "metadata": {},
   "source": [
    "## Inspect the data and remove the cities where the humidity > 100%.\n",
    "----\n",
    "Skip this step if there are no cities that have humidity > 100%. "
   ]
  },
  {
   "cell_type": "code",
   "execution_count": null,
   "metadata": {},
   "outputs": [],
   "source": []
  },
  {
   "cell_type": "code",
   "execution_count": 9,
   "metadata": {},
   "outputs": [
    {
     "data": {
      "text/html": [
       "<div>\n",
       "<style scoped>\n",
       "    .dataframe tbody tr th:only-of-type {\n",
       "        vertical-align: middle;\n",
       "    }\n",
       "\n",
       "    .dataframe tbody tr th {\n",
       "        vertical-align: top;\n",
       "    }\n",
       "\n",
       "    .dataframe thead th {\n",
       "        text-align: right;\n",
       "    }\n",
       "</style>\n",
       "<table border=\"1\" class=\"dataframe\">\n",
       "  <thead>\n",
       "    <tr style=\"text-align: right;\">\n",
       "      <th></th>\n",
       "      <th>lat</th>\n",
       "      <th>lng</th>\n",
       "      <th>temp</th>\n",
       "      <th>humidity</th>\n",
       "      <th>wind_speed</th>\n",
       "      <th>cloud_cover</th>\n",
       "      <th>city_list</th>\n",
       "      <th>country</th>\n",
       "      <th>date</th>\n",
       "    </tr>\n",
       "  </thead>\n",
       "  <tbody>\n",
       "    <tr>\n",
       "      <td>0</td>\n",
       "      <td>56.17</td>\n",
       "      <td>107.45</td>\n",
       "      <td>36.59</td>\n",
       "      <td>82</td>\n",
       "      <td>8.86</td>\n",
       "      <td>74</td>\n",
       "      <td>magistralnyy</td>\n",
       "      <td>RU</td>\n",
       "      <td>1588788362</td>\n",
       "    </tr>\n",
       "    <tr>\n",
       "      <td>1</td>\n",
       "      <td>-38.18</td>\n",
       "      <td>146.53</td>\n",
       "      <td>46.00</td>\n",
       "      <td>96</td>\n",
       "      <td>1.30</td>\n",
       "      <td>98</td>\n",
       "      <td>traralgon</td>\n",
       "      <td>AU</td>\n",
       "      <td>1588788362</td>\n",
       "    </tr>\n",
       "    <tr>\n",
       "      <td>2</td>\n",
       "      <td>61.28</td>\n",
       "      <td>108.01</td>\n",
       "      <td>28.08</td>\n",
       "      <td>97</td>\n",
       "      <td>10.67</td>\n",
       "      <td>100</td>\n",
       "      <td>yerbogachen</td>\n",
       "      <td>RU</td>\n",
       "      <td>1588788362</td>\n",
       "    </tr>\n",
       "    <tr>\n",
       "      <td>3</td>\n",
       "      <td>65.61</td>\n",
       "      <td>-37.64</td>\n",
       "      <td>33.80</td>\n",
       "      <td>69</td>\n",
       "      <td>9.17</td>\n",
       "      <td>75</td>\n",
       "      <td>tasiilaq</td>\n",
       "      <td>GL</td>\n",
       "      <td>1588788363</td>\n",
       "    </tr>\n",
       "    <tr>\n",
       "      <td>4</td>\n",
       "      <td>42.60</td>\n",
       "      <td>-73.97</td>\n",
       "      <td>56.19</td>\n",
       "      <td>33</td>\n",
       "      <td>2.82</td>\n",
       "      <td>98</td>\n",
       "      <td>albany</td>\n",
       "      <td>US</td>\n",
       "      <td>1588788363</td>\n",
       "    </tr>\n",
       "  </tbody>\n",
       "</table>\n",
       "</div>"
      ],
      "text/plain": [
       "     lat     lng   temp  humidity  wind_speed  cloud_cover     city_list  \\\n",
       "0  56.17  107.45  36.59        82        8.86           74  magistralnyy   \n",
       "1 -38.18  146.53  46.00        96        1.30           98     traralgon   \n",
       "2  61.28  108.01  28.08        97       10.67          100   yerbogachen   \n",
       "3  65.61  -37.64  33.80        69        9.17           75      tasiilaq   \n",
       "4  42.60  -73.97  56.19        33        2.82           98        albany   \n",
       "\n",
       "  country        date  \n",
       "0      RU  1588788362  \n",
       "1      AU  1588788362  \n",
       "2      RU  1588788362  \n",
       "3      GL  1588788363  \n",
       "4      US  1588788363  "
      ]
     },
     "execution_count": 9,
     "metadata": {},
     "output_type": "execute_result"
    }
   ],
   "source": [
    "#  Get the indices of cities that have humidity over 100%.\n",
    "  # None exist in the .describe\n",
    "idx100 = weather_data[weather_data['humidity'] > 100].index\n",
    "cleaned_weather_data = weather_data.drop(idx100, inplace=False)\n",
    "cleaned_weather_data.head()"
   ]
  },
  {
   "cell_type": "code",
   "execution_count": 10,
   "metadata": {},
   "outputs": [],
   "source": [
    "# Make a new DataFrame equal to the city data to drop all humidity outliers by index.\n",
    "# Passing \"inplace=False\" will make a copy of the city_data DataFrame, which we call \"clean_city_data\".\n",
    "# See above."
   ]
  },
  {
   "cell_type": "code",
   "execution_count": 11,
   "metadata": {},
   "outputs": [],
   "source": [
    "# Extract relevant fields from the data frame\n",
    "\n",
    "\n",
    "# Export the City_Data into a csv\n"
   ]
  },
  {
   "cell_type": "markdown",
   "metadata": {},
   "source": [
    "## Plotting the Data\n",
    "* Use proper labeling of the plots using plot titles (including date of analysis) and axes labels.\n",
    "* Save the plotted figures as .pngs."
   ]
  },
  {
   "cell_type": "markdown",
   "metadata": {},
   "source": [
    "## Latitude vs. Temperature Plot"
   ]
  },
  {
   "cell_type": "code",
   "execution_count": 12,
   "metadata": {
    "scrolled": true
   },
   "outputs": [
    {
     "data": {
      "text/plain": [
       "Text(0.5, 0, 'Latitude')"
      ]
     },
     "execution_count": 12,
     "metadata": {},
     "output_type": "execute_result"
    },
    {
     "data": {
      "image/png": "[encoded data removed]",
      "text/plain": [
       "<Figure size 432x288 with 1 Axes>"
      ]
     },
     "metadata": {
      "needs_background": "light"
     },
     "output_type": "display_data"
    }
   ],
   "source": [
    "# Scatter Plot City Latitude vs Max Temp\n",
    "plt.scatter(cleaned_weather_data[\"lat\"], cleaned_weather_data[\"temp\"], marker = \"o\")\n",
    "plt.title(f' City Latitude vs. Max Temp {time.strftime(\"%m/%d/%y\")}')\n",
    "plt.ylabel(\"Temp (Farenheit)\")\n",
    "plt.xlabel(\"Latitude\")\n",
    "# The closer to the equator 0 degrees lat, the higher the temps, decending on either side of the midline."
   ]
  },
  {
   "cell_type": "markdown",
   "metadata": {},
   "source": [
    "## Latitude vs. Humidity Plot"
   ]
  },
  {
   "cell_type": "code",
   "execution_count": 13,
   "metadata": {},
   "outputs": [
    {
     "data": {
      "text/plain": [
       "Text(0.5, 0, 'Latitude')"
      ]
     },
     "execution_count": 13,
     "metadata": {},
     "output_type": "execute_result"
    },
    {
     "data": {
      "image/png": "[encoded data removed]",
      "text/plain": [
       "<Figure size 432x288 with 1 Axes>"
      ]
     },
     "metadata": {
      "needs_background": "light"
     },
     "output_type": "display_data"
    }
   ],
   "source": [
    "plt.scatter(cleaned_weather_data[\"lat\"], cleaned_weather_data[\"humidity\"], marker = \"o\")\n",
    "plt.title(f' City Latitude vs. Humidity {time.strftime(\"%m/%d/%y\")}')\n",
    "plt.ylabel(\"Humidity (Percent)\")\n",
    "plt.xlabel(\"Latitude\")"
   ]
  },
  {
   "cell_type": "markdown",
   "metadata": {},
   "source": [
    "## Latitude vs. Cloudiness Plot"
   ]
  },
  {
   "cell_type": "code",
   "execution_count": 14,
   "metadata": {},
   "outputs": [
    {
     "data": {
      "text/plain": [
       "Text(0.5, 0, 'Latitude')"
      ]
     },
     "execution_count": 14,
     "metadata": {},
     "output_type": "execute_result"
    },
    {
     "data": {
      "image/png": "[encoded data removed]",
      "text/plain": [
       "<Figure size 432x288 with 1 Axes>"
      ]
     },
     "metadata": {
      "needs_background": "light"
     },
     "output_type": "display_data"
    }
   ],
   "source": [
    "plt.scatter(cleaned_weather_data[\"lat\"], cleaned_weather_data[\"cloud_cover\"], marker = \"o\")\n",
    "plt.title(f' City Latitude vs. Cloud Cover {time.strftime(\"%m/%d/%y\")}')\n",
    "plt.ylabel(\"Overcast (Percent)\")\n",
    "plt.xlabel(\"Latitude\")"
   ]
  },
  {
   "cell_type": "markdown",
   "metadata": {},
   "source": [
    "## Latitude vs. Wind Speed Plot"
   ]
  },
  {
   "cell_type": "code",
   "execution_count": 15,
   "metadata": {},
   "outputs": [
    {
     "data": {
      "text/plain": [
       "Text(0.5, 0, 'Latitude')"
      ]
     },
     "execution_count": 15,
     "metadata": {},
     "output_type": "execute_result"
    },
    {
     "data": {
      "image/png": "[encoded data removed]",
      "text/plain": [
       "<Figure size 432x288 with 1 Axes>"
      ]
     },
     "metadata": {
      "needs_background": "light"
     },
     "output_type": "display_data"
    }
   ],
   "source": [
    "plt.scatter(cleaned_weather_data[\"lat\"], cleaned_weather_data[\"wind_speed\"], marker = \"o\")\n",
    "plt.title(f' City Latitude vs. Wind Speed {time.strftime(\"%m/%d/%y\")}')\n",
    "plt.ylabel(\"Wind Speed (MPH)\")\n",
    "plt.xlabel(\"Latitude\")"
   ]
  },
  {
   "cell_type": "markdown",
   "metadata": {},
   "source": [
    "## Linear Regression"
   ]
  },
  {
   "cell_type": "code",
   "execution_count": 16,
   "metadata": {},
   "outputs": [],
   "source": [
    "# OPTIONAL: Create a function to create Linear Regression plots"
   ]
  },
  {
   "cell_type": "code",
   "execution_count": 23,
   "metadata": {},
   "outputs": [
    {
     "data": {
      "text/html": [
       "<div>\n",
       "<style scoped>\n",
       "    .dataframe tbody tr th:only-of-type {\n",
       "        vertical-align: middle;\n",
       "    }\n",
       "\n",
       "    .dataframe tbody tr th {\n",
       "        vertical-align: top;\n",
       "    }\n",
       "\n",
       "    .dataframe thead th {\n",
       "        text-align: right;\n",
       "    }\n",
       "</style>\n",
       "<table border=\"1\" class=\"dataframe\">\n",
       "  <thead>\n",
       "    <tr style=\"text-align: right;\">\n",
       "      <th></th>\n",
       "      <th>lat</th>\n",
       "      <th>lng</th>\n",
       "      <th>temp</th>\n",
       "      <th>humidity</th>\n",
       "      <th>wind_speed</th>\n",
       "      <th>cloud_cover</th>\n",
       "      <th>city_list</th>\n",
       "      <th>country</th>\n",
       "      <th>date</th>\n",
       "    </tr>\n",
       "  </thead>\n",
       "  <tbody>\n",
       "    <tr>\n",
       "      <td>0</td>\n",
       "      <td>56.17</td>\n",
       "      <td>107.45</td>\n",
       "      <td>36.59</td>\n",
       "      <td>82</td>\n",
       "      <td>8.86</td>\n",
       "      <td>74</td>\n",
       "      <td>magistralnyy</td>\n",
       "      <td>RU</td>\n",
       "      <td>1588788362</td>\n",
       "    </tr>\n",
       "    <tr>\n",
       "      <td>2</td>\n",
       "      <td>61.28</td>\n",
       "      <td>108.01</td>\n",
       "      <td>28.08</td>\n",
       "      <td>97</td>\n",
       "      <td>10.67</td>\n",
       "      <td>100</td>\n",
       "      <td>yerbogachen</td>\n",
       "      <td>RU</td>\n",
       "      <td>1588788362</td>\n",
       "    </tr>\n",
       "    <tr>\n",
       "      <td>3</td>\n",
       "      <td>65.61</td>\n",
       "      <td>-37.64</td>\n",
       "      <td>33.80</td>\n",
       "      <td>69</td>\n",
       "      <td>9.17</td>\n",
       "      <td>75</td>\n",
       "      <td>tasiilaq</td>\n",
       "      <td>GL</td>\n",
       "      <td>1588788363</td>\n",
       "    </tr>\n",
       "    <tr>\n",
       "      <td>4</td>\n",
       "      <td>42.60</td>\n",
       "      <td>-73.97</td>\n",
       "      <td>56.19</td>\n",
       "      <td>33</td>\n",
       "      <td>2.82</td>\n",
       "      <td>98</td>\n",
       "      <td>albany</td>\n",
       "      <td>US</td>\n",
       "      <td>1588788363</td>\n",
       "    </tr>\n",
       "    <tr>\n",
       "      <td>7</td>\n",
       "      <td>18.26</td>\n",
       "      <td>-78.04</td>\n",
       "      <td>85.14</td>\n",
       "      <td>79</td>\n",
       "      <td>16.11</td>\n",
       "      <td>40</td>\n",
       "      <td>whithorn</td>\n",
       "      <td>JM</td>\n",
       "      <td>1588788364</td>\n",
       "    </tr>\n",
       "    <tr>\n",
       "      <td>...</td>\n",
       "      <td>...</td>\n",
       "      <td>...</td>\n",
       "      <td>...</td>\n",
       "      <td>...</td>\n",
       "      <td>...</td>\n",
       "      <td>...</td>\n",
       "      <td>...</td>\n",
       "      <td>...</td>\n",
       "      <td>...</td>\n",
       "    </tr>\n",
       "    <tr>\n",
       "      <td>580</td>\n",
       "      <td>48.55</td>\n",
       "      <td>-71.33</td>\n",
       "      <td>48.20</td>\n",
       "      <td>31</td>\n",
       "      <td>12.75</td>\n",
       "      <td>20</td>\n",
       "      <td>saint-ambroise</td>\n",
       "      <td>CA</td>\n",
       "      <td>1588788505</td>\n",
       "    </tr>\n",
       "    <tr>\n",
       "      <td>581</td>\n",
       "      <td>37.50</td>\n",
       "      <td>61.97</td>\n",
       "      <td>77.00</td>\n",
       "      <td>47</td>\n",
       "      <td>9.17</td>\n",
       "      <td>40</td>\n",
       "      <td>murgab</td>\n",
       "      <td>TM</td>\n",
       "      <td>1588788506</td>\n",
       "    </tr>\n",
       "    <tr>\n",
       "      <td>582</td>\n",
       "      <td>9.56</td>\n",
       "      <td>44.06</td>\n",
       "      <td>74.68</td>\n",
       "      <td>74</td>\n",
       "      <td>3.02</td>\n",
       "      <td>100</td>\n",
       "      <td>hargeysa</td>\n",
       "      <td>SO</td>\n",
       "      <td>1588788506</td>\n",
       "    </tr>\n",
       "    <tr>\n",
       "      <td>583</td>\n",
       "      <td>25.36</td>\n",
       "      <td>55.40</td>\n",
       "      <td>83.43</td>\n",
       "      <td>57</td>\n",
       "      <td>4.70</td>\n",
       "      <td>0</td>\n",
       "      <td>sharjah</td>\n",
       "      <td>AE</td>\n",
       "      <td>1588788506</td>\n",
       "    </tr>\n",
       "    <tr>\n",
       "      <td>584</td>\n",
       "      <td>53.70</td>\n",
       "      <td>-1.78</td>\n",
       "      <td>61.03</td>\n",
       "      <td>42</td>\n",
       "      <td>3.00</td>\n",
       "      <td>0</td>\n",
       "      <td>brighouse</td>\n",
       "      <td>GB</td>\n",
       "      <td>1588788506</td>\n",
       "    </tr>\n",
       "  </tbody>\n",
       "</table>\n",
       "<p>417 rows × 9 columns</p>\n",
       "</div>"
      ],
      "text/plain": [
       "       lat     lng   temp  humidity  wind_speed  cloud_cover       city_list  \\\n",
       "0    56.17  107.45  36.59        82        8.86           74    magistralnyy   \n",
       "2    61.28  108.01  28.08        97       10.67          100     yerbogachen   \n",
       "3    65.61  -37.64  33.80        69        9.17           75        tasiilaq   \n",
       "4    42.60  -73.97  56.19        33        2.82           98          albany   \n",
       "7    18.26  -78.04  85.14        79       16.11           40        whithorn   \n",
       "..     ...     ...    ...       ...         ...          ...             ...   \n",
       "580  48.55  -71.33  48.20        31       12.75           20  saint-ambroise   \n",
       "581  37.50   61.97  77.00        47        9.17           40          murgab   \n",
       "582   9.56   44.06  74.68        74        3.02          100        hargeysa   \n",
       "583  25.36   55.40  83.43        57        4.70            0         sharjah   \n",
       "584  53.70   -1.78  61.03        42        3.00            0       brighouse   \n",
       "\n",
       "    country        date  \n",
       "0        RU  1588788362  \n",
       "2        RU  1588788362  \n",
       "3        GL  1588788363  \n",
       "4        US  1588788363  \n",
       "7        JM  1588788364  \n",
       "..      ...         ...  \n",
       "580      CA  1588788505  \n",
       "581      TM  1588788506  \n",
       "582      SO  1588788506  \n",
       "583      AE  1588788506  \n",
       "584      GB  1588788506  \n",
       "\n",
       "[417 rows x 9 columns]"
      ]
     },
     "execution_count": 23,
     "metadata": {},
     "output_type": "execute_result"
    }
   ],
   "source": [
    "# Create Northern and Southern Hemisphere DataFrames\n",
    "north_df = weather_data.copy()\n",
    "northern_df = north_df[north_df[\"lat\"] > 0]\n",
    "northern_df"
   ]
  },
  {
   "cell_type": "code",
   "execution_count": 22,
   "metadata": {},
   "outputs": [
    {
     "data": {
      "text/html": [
       "<div>\n",
       "<style scoped>\n",
       "    .dataframe tbody tr th:only-of-type {\n",
       "        vertical-align: middle;\n",
       "    }\n",
       "\n",
       "    .dataframe tbody tr th {\n",
       "        vertical-align: top;\n",
       "    }\n",
       "\n",
       "    .dataframe thead th {\n",
       "        text-align: right;\n",
       "    }\n",
       "</style>\n",
       "<table border=\"1\" class=\"dataframe\">\n",
       "  <thead>\n",
       "    <tr style=\"text-align: right;\">\n",
       "      <th></th>\n",
       "      <th>lat</th>\n",
       "      <th>lng</th>\n",
       "      <th>temp</th>\n",
       "      <th>humidity</th>\n",
       "      <th>wind_speed</th>\n",
       "      <th>cloud_cover</th>\n",
       "      <th>city_list</th>\n",
       "      <th>country</th>\n",
       "      <th>date</th>\n",
       "    </tr>\n",
       "  </thead>\n",
       "  <tbody>\n",
       "    <tr>\n",
       "      <td>1</td>\n",
       "      <td>-38.18</td>\n",
       "      <td>146.53</td>\n",
       "      <td>46.00</td>\n",
       "      <td>96</td>\n",
       "      <td>1.30</td>\n",
       "      <td>98</td>\n",
       "      <td>traralgon</td>\n",
       "      <td>AU</td>\n",
       "      <td>1588788362</td>\n",
       "    </tr>\n",
       "    <tr>\n",
       "      <td>5</td>\n",
       "      <td>-43.53</td>\n",
       "      <td>172.63</td>\n",
       "      <td>44.42</td>\n",
       "      <td>81</td>\n",
       "      <td>1.12</td>\n",
       "      <td>74</td>\n",
       "      <td>christchurch</td>\n",
       "      <td>NZ</td>\n",
       "      <td>1588788315</td>\n",
       "    </tr>\n",
       "    <tr>\n",
       "      <td>6</td>\n",
       "      <td>-9.80</td>\n",
       "      <td>-139.03</td>\n",
       "      <td>80.28</td>\n",
       "      <td>75</td>\n",
       "      <td>16.42</td>\n",
       "      <td>18</td>\n",
       "      <td>atuona</td>\n",
       "      <td>PF</td>\n",
       "      <td>1588788364</td>\n",
       "    </tr>\n",
       "    <tr>\n",
       "      <td>8</td>\n",
       "      <td>-20.34</td>\n",
       "      <td>57.76</td>\n",
       "      <td>74.62</td>\n",
       "      <td>83</td>\n",
       "      <td>5.82</td>\n",
       "      <td>20</td>\n",
       "      <td>bambous virieux</td>\n",
       "      <td>MU</td>\n",
       "      <td>1588788181</td>\n",
       "    </tr>\n",
       "    <tr>\n",
       "      <td>10</td>\n",
       "      <td>-0.74</td>\n",
       "      <td>-90.35</td>\n",
       "      <td>80.91</td>\n",
       "      <td>70</td>\n",
       "      <td>17.22</td>\n",
       "      <td>20</td>\n",
       "      <td>puerto ayora</td>\n",
       "      <td>EC</td>\n",
       "      <td>1588788189</td>\n",
       "    </tr>\n",
       "    <tr>\n",
       "      <td>...</td>\n",
       "      <td>...</td>\n",
       "      <td>...</td>\n",
       "      <td>...</td>\n",
       "      <td>...</td>\n",
       "      <td>...</td>\n",
       "      <td>...</td>\n",
       "      <td>...</td>\n",
       "      <td>...</td>\n",
       "      <td>...</td>\n",
       "    </tr>\n",
       "    <tr>\n",
       "      <td>562</td>\n",
       "      <td>-15.43</td>\n",
       "      <td>-74.62</td>\n",
       "      <td>81.21</td>\n",
       "      <td>41</td>\n",
       "      <td>9.04</td>\n",
       "      <td>56</td>\n",
       "      <td>acari</td>\n",
       "      <td>PE</td>\n",
       "      <td>1588788500</td>\n",
       "    </tr>\n",
       "    <tr>\n",
       "      <td>563</td>\n",
       "      <td>-32.50</td>\n",
       "      <td>137.77</td>\n",
       "      <td>65.77</td>\n",
       "      <td>24</td>\n",
       "      <td>26.40</td>\n",
       "      <td>100</td>\n",
       "      <td>port augusta</td>\n",
       "      <td>AU</td>\n",
       "      <td>1588788501</td>\n",
       "    </tr>\n",
       "    <tr>\n",
       "      <td>570</td>\n",
       "      <td>-26.62</td>\n",
       "      <td>-54.13</td>\n",
       "      <td>62.26</td>\n",
       "      <td>42</td>\n",
       "      <td>6.67</td>\n",
       "      <td>8</td>\n",
       "      <td>san vicente</td>\n",
       "      <td>AR</td>\n",
       "      <td>1588788502</td>\n",
       "    </tr>\n",
       "    <tr>\n",
       "      <td>572</td>\n",
       "      <td>-29.95</td>\n",
       "      <td>-71.34</td>\n",
       "      <td>57.20</td>\n",
       "      <td>87</td>\n",
       "      <td>13.87</td>\n",
       "      <td>75</td>\n",
       "      <td>coquimbo</td>\n",
       "      <td>CL</td>\n",
       "      <td>1588788503</td>\n",
       "    </tr>\n",
       "    <tr>\n",
       "      <td>573</td>\n",
       "      <td>-10.98</td>\n",
       "      <td>-66.10</td>\n",
       "      <td>83.79</td>\n",
       "      <td>88</td>\n",
       "      <td>2.77</td>\n",
       "      <td>100</td>\n",
       "      <td>riberalta</td>\n",
       "      <td>BO</td>\n",
       "      <td>1588788503</td>\n",
       "    </tr>\n",
       "  </tbody>\n",
       "</table>\n",
       "<p>168 rows × 9 columns</p>\n",
       "</div>"
      ],
      "text/plain": [
       "       lat     lng   temp  humidity  wind_speed  cloud_cover        city_list  \\\n",
       "1   -38.18  146.53  46.00        96        1.30           98        traralgon   \n",
       "5   -43.53  172.63  44.42        81        1.12           74     christchurch   \n",
       "6    -9.80 -139.03  80.28        75       16.42           18           atuona   \n",
       "8   -20.34   57.76  74.62        83        5.82           20  bambous virieux   \n",
       "10   -0.74  -90.35  80.91        70       17.22           20     puerto ayora   \n",
       "..     ...     ...    ...       ...         ...          ...              ...   \n",
       "562 -15.43  -74.62  81.21        41        9.04           56            acari   \n",
       "563 -32.50  137.77  65.77        24       26.40          100     port augusta   \n",
       "570 -26.62  -54.13  62.26        42        6.67            8      san vicente   \n",
       "572 -29.95  -71.34  57.20        87       13.87           75         coquimbo   \n",
       "573 -10.98  -66.10  83.79        88        2.77          100        riberalta   \n",
       "\n",
       "    country        date  \n",
       "1        AU  1588788362  \n",
       "5        NZ  1588788315  \n",
       "6        PF  1588788364  \n",
       "8        MU  1588788181  \n",
       "10       EC  1588788189  \n",
       "..      ...         ...  \n",
       "562      PE  1588788500  \n",
       "563      AU  1588788501  \n",
       "570      AR  1588788502  \n",
       "572      CL  1588788503  \n",
       "573      BO  1588788503  \n",
       "\n",
       "[168 rows x 9 columns]"
      ]
     },
     "execution_count": 22,
     "metadata": {},
     "output_type": "execute_result"
    }
   ],
   "source": [
    "# Create Northern and Southern Hemisphere DataFrames\n",
    "south_df = weather_data.copy()\n",
    "southern_df = south_df[south_df[\"lat\"] < 0]\n",
    "southern_df"
   ]
  },
  {
   "cell_type": "code",
   "execution_count": 45,
   "metadata": {},
   "outputs": [],
   "source": []
  },
  {
   "cell_type": "markdown",
   "metadata": {},
   "source": [
    "####  Northern Hemisphere - Max Temp vs. Latitude Linear Regression"
   ]
  },
  {
   "cell_type": "code",
   "execution_count": 52,
   "metadata": {},
   "outputs": [
    {
     "data": {
      "text/plain": [
       "[<matplotlib.lines.Line2D at 0x278b5b94bc8>]"
      ]
     },
     "execution_count": 52,
     "metadata": {},
     "output_type": "execute_result"
    },
    {
     "data": {
      "image/png": "[encoded data removed]",
      "text/plain": [
       "<Figure size 432x288 with 1 Axes>"
      ]
     },
     "metadata": {
      "needs_background": "light"
     },
     "output_type": "display_data"
    }
   ],
   "source": [
    "plt.scatter(northern_df[\"lat\"], northern_df[\"temp\"], marker = \"o\")\n",
    "plt.title(f'Latitudes vs. Max Temp {time.strftime(\"%m/%d/%y\")}')\n",
    "plt.ylabel(\"Temperatur (Degrees Far.)\")\n",
    "plt.xlabel(\"Latitude\")\n",
    "(slope, intercept, rvalue, pvalue, stderr) = linregress(northern_df[\"lat\"], northern_df[\"temp\"])\n",
    "regress_values = northern_df[\"lat\"] * slope + intercept\n",
    "plt.plot(northern_df[\"lat\"],regress_values,color = \"red\")\n",
    "          ## The further north you go, the colder it gets."
   ]
  },
  {
   "cell_type": "markdown",
   "metadata": {},
   "source": [
    "####  Southern Hemisphere - Max Temp vs. Latitude Linear Regression"
   ]
  },
  {
   "cell_type": "code",
   "execution_count": 53,
   "metadata": {},
   "outputs": [
    {
     "data": {
      "text/plain": [
       "[<matplotlib.lines.Line2D at 0x278b5b66f48>]"
      ]
     },
     "execution_count": 53,
     "metadata": {},
     "output_type": "execute_result"
    },
    {
     "data": {
      "image/png": "[encoded data removed]",
      "text/plain": [
       "<Figure size 432x288 with 1 Axes>"
      ]
     },
     "metadata": {
      "needs_background": "light"
     },
     "output_type": "display_data"
    }
   ],
   "source": [
    "plt.scatter(southern_df[\"lat\"], southern_df[\"temp\"], marker = \"o\")\n",
    "plt.title(f'Southern Latitudes vs. Max Temp {time.strftime(\"%m/%d/%y\")}')\n",
    "plt.ylabel(\"Temperatur (Degrees Far.)\")\n",
    "plt.xlabel(\"Latitude\")\n",
    "(slope, intercept, rvalue, pvalue, stderr) = linregress(southern_df[\"lat\"], southern_df[\"temp\"])\n",
    "regress_values = southern_df[\"lat\"] * slope + intercept\n",
    "plt.plot(southern_df[\"lat\"],regress_values,color = \"red\")          \n",
    "          # Further south it get's very cold, closer to the equator (0), the warmer it is."
   ]
  },
  {
   "cell_type": "markdown",
   "metadata": {},
   "source": [
    "####  Northern Hemisphere - Humidity (%) vs. Latitude Linear Regression"
   ]
  },
  {
   "cell_type": "code",
   "execution_count": 55,
   "metadata": {},
   "outputs": [
    {
     "data": {
      "text/plain": [
       "[<matplotlib.lines.Line2D at 0x278b53f1908>]"
      ]
     },
     "execution_count": 55,
     "metadata": {},
     "output_type": "execute_result"
    },
    {
     "data": {
      "image/png": "[encoded data removed]",
      "text/plain": [
       "<Figure size 432x288 with 1 Axes>"
      ]
     },
     "metadata": {
      "needs_background": "light"
     },
     "output_type": "display_data"
    }
   ],
   "source": [
    "plt.scatter(northern_df[\"lat\"], northern_df[\"humidity\"], marker = \"o\")\n",
    "plt.title(f'Northern Latitudes vs. Humidity {time.strftime(\"%m/%d/%y\")}')\n",
    "plt.ylabel(\"Humidity (Percent)\")\n",
    "plt.xlabel(\"Latitude\")\n",
    "(slope, intercept, rvalue, pvalue, stderr) = linregress(northern_df[\"lat\"], northern_df[\"humidity\"])\n",
    "regress_values = northern_df[\"lat\"] * slope + intercept\n",
    "plt.plot(northern_df[\"lat\"],regress_values,color = \"red\")          \n",
    "          # Mid latitudes are humid as they are impacted with lots of moisture."
   ]
  },
  {
   "cell_type": "markdown",
   "metadata": {},
   "source": [
    "####  Southern Hemisphere - Humidity (%) vs. Latitude Linear Regression"
   ]
  },
  {
   "cell_type": "code",
   "execution_count": 56,
   "metadata": {},
   "outputs": [
    {
     "data": {
      "text/plain": [
       "[<matplotlib.lines.Line2D at 0x278b5c9c348>]"
      ]
     },
     "execution_count": 56,
     "metadata": {},
     "output_type": "execute_result"
    },
    {
     "data": {
      "image/png": "[encoded data removed]",
      "text/plain": [
       "<Figure size 432x288 with 1 Axes>"
      ]
     },
     "metadata": {
      "needs_background": "light"
     },
     "output_type": "display_data"
    }
   ],
   "source": [
    "plt.scatter(southern_df[\"lat\"], southern_df[\"humidity\"], marker = \"o\")\n",
    "plt.title(f'Southern Latitudes vs. Humidity {time.strftime(\"%m/%d/%y\")}')\n",
    "plt.ylabel(\"Humidity (Percent)\")\n",
    "plt.xlabel(\"Latitude\")\n",
    "(slope, intercept, rvalue, pvalue, stderr) = linregress(southern_df[\"lat\"], southern_df[\"humidity\"])\n",
    "regress_values = southern_df[\"lat\"] * slope + intercept\n",
    "plt.plot(southern_df[\"lat\"],regress_values,color = \"red\")    \n",
    "          # Mid latitudes are humid as they are impacted with lots of moisture."
   ]
  },
  {
   "cell_type": "markdown",
   "metadata": {},
   "source": [
    "####  Northern Hemisphere - Cloudiness (%) vs. Latitude Linear Regression"
   ]
  },
  {
   "cell_type": "code",
   "execution_count": 58,
   "metadata": {},
   "outputs": [
    {
     "data": {
      "text/plain": [
       "[<matplotlib.lines.Line2D at 0x278b53f7d88>]"
      ]
     },
     "execution_count": 58,
     "metadata": {},
     "output_type": "execute_result"
    },
    {
     "data": {
      "image/png": "[encoded data removed]",
      "text/plain": [
       "<Figure size 432x288 with 1 Axes>"
      ]
     },
     "metadata": {
      "needs_background": "light"
     },
     "output_type": "display_data"
    }
   ],
   "source": [
    "plt.scatter(northern_df[\"lat\"], northern_df[\"cloud_cover\"], marker = \"o\")\n",
    "plt.title(f'Northern Latitudes vs. Cloud Cover {time.strftime(\"%m/%d/%y\")}')\n",
    "plt.ylabel(\"Overcast (Percent)\")\n",
    "plt.xlabel(\"Latitude\")\n",
    "(slope, intercept, rvalue, pvalue, stderr) = linregress(northern_df[\"lat\"], northern_df[\"cloud_cover\"])\n",
    "regress_values = northern_df[\"lat\"] * slope + intercept\n",
    "plt.plot(northern_df[\"lat\"],regress_values,color = \"red\")            \n",
    "          # Scatterd clouds today,,,Just like the northwest."
   ]
  },
  {
   "cell_type": "markdown",
   "metadata": {},
   "source": [
    "####  Southern Hemisphere - Cloudiness (%) vs. Latitude Linear Regression"
   ]
  },
  {
   "cell_type": "code",
   "execution_count": 59,
   "metadata": {},
   "outputs": [
    {
     "data": {
      "text/plain": [
       "[<matplotlib.lines.Line2D at 0x278b5b09888>]"
      ]
     },
     "execution_count": 59,
     "metadata": {},
     "output_type": "execute_result"
    },
    {
     "data": {
      "image/png": "[encoded data removed]",
      "text/plain": [
       "<Figure size 432x288 with 1 Axes>"
      ]
     },
     "metadata": {
      "needs_background": "light"
     },
     "output_type": "display_data"
    }
   ],
   "source": [
    "plt.scatter(southern_df[\"lat\"], southern_df[\"cloud_cover\"], marker = \"o\")\n",
    "plt.title(f'Southern Latitudes vs. Cloud Cover {time.strftime(\"%m/%d/%y\")}')\n",
    "plt.ylabel(\"Overcast (Percent)\")\n",
    "plt.xlabel(\"Latitude\")\n",
    "(slope, intercept, rvalue, pvalue, stderr) = linregress(southern_df[\"lat\"], southern_df[\"cloud_cover\"])\n",
    "regress_values = southern_df[\"lat\"] * slope + intercept\n",
    "plt.plot(southern_df[\"lat\"],regress_values,color = \"red\")              \n",
    "          # note the lack of cloud cover frequency in the lower latitudes."
   ]
  },
  {
   "cell_type": "markdown",
   "metadata": {},
   "source": [
    "####  Northern Hemisphere - Wind Speed (mph) vs. Latitude Linear Regression"
   ]
  },
  {
   "cell_type": "code",
   "execution_count": 60,
   "metadata": {},
   "outputs": [
    {
     "data": {
      "text/plain": [
       "[<matplotlib.lines.Line2D at 0x278b5d2aec8>]"
      ]
     },
     "execution_count": 60,
     "metadata": {},
     "output_type": "execute_result"
    },
    {
     "data": {
      "image/png": "[encoded data removed]",
      "text/plain": [
       "<Figure size 432x288 with 1 Axes>"
      ]
     },
     "metadata": {
      "needs_background": "light"
     },
     "output_type": "display_data"
    }
   ],
   "source": [
    "plt.scatter(northern_df[\"lat\"], northern_df[\"wind_speed\"], marker = \"o\")\n",
    "plt.title(f'Northern Latitudes vs. Wind Speed {time.strftime(\"%m/%d/%y\")}')\n",
    "plt.ylabel(\"Wind Speed (MPH)\")\n",
    "plt.xlabel(\"Latitude\")\n",
    "(slope, intercept, rvalue, pvalue, stderr) = linregress(northern_df[\"lat\"], northern_df[\"wind_speed\"])\n",
    "regress_values = northern_df[\"lat\"] * slope + intercept\n",
    "plt.plot(northern_df[\"lat\"],regress_values,color = \"red\")    \n",
    "          # a seemngly linear activity with a few upshots of wind speed."
   ]
  },
  {
   "cell_type": "markdown",
   "metadata": {},
   "source": [
    "####  Southern Hemisphere - Wind Speed (mph) vs. Latitude Linear Regression"
   ]
  },
  {
   "cell_type": "code",
   "execution_count": 61,
   "metadata": {},
   "outputs": [
    {
     "data": {
      "text/plain": [
       "[<matplotlib.lines.Line2D at 0x278b5d53508>]"
      ]
     },
     "execution_count": 61,
     "metadata": {},
     "output_type": "execute_result"
    },
    {
     "data": {
      "image/png": "[encoded data removed]",
      "text/plain": [
       "<Figure size 432x288 with 1 Axes>"
      ]
     },
     "metadata": {
      "needs_background": "light"
     },
     "output_type": "display_data"
    }
   ],
   "source": [
    "plt.scatter(southern_df[\"lat\"], southern_df[\"wind_speed\"], marker = \"o\")\n",
    "plt.title(f'Southern Latitudes vs. Wind Speed {time.strftime(\"%m/%d/%y\")}')\n",
    "plt.ylabel(\"Wind Speed (MPH)\")\n",
    "plt.xlabel(\"Latitude\")\n",
    "(slope, intercept, rvalue, pvalue, stderr) = linregress(southern_df[\"lat\"], southern_df[\"wind_speed\"])\n",
    "regress_values = southern_df[\"lat\"] * slope + intercept\n",
    "plt.plot(southern_df[\"lat\"],regress_values,color = \"red\")              \n",
    "          # Not real windy in the southern latitudes."
   ]
  },
  {
   "cell_type": "code",
   "execution_count": null,
   "metadata": {},
   "outputs": [],
   "source": []
  }
 ],
 "metadata": {
  "anaconda-cloud": {},
  "kernel_info": {
   "name": "python3"
  },
  "kernelspec": {
   "display_name": "Python 3",
   "language": "python",
   "name": "python3"
  },
  "language_info": {
   "codemirror_mode": {
    "name": "ipython",
    "version": 3
   },
   "file_extension": ".py",
   "mimetype": "text/x-python",
   "name": "python",
   "nbconvert_exporter": "python",
   "pygments_lexer": "ipython3",
   "version": "3.7.4"
  },
  "latex_envs": {
   "LaTeX_envs_menu_present": true,
   "autoclose": false,
   "autocomplete": true,
   "bibliofile": "biblio.bib",
   "cite_by": "apalike",
   "current_citInitial": 1,
   "eqLabelWithNumbers": true,
   "eqNumInitial": 1,
   "hotkeys": {
    "equation": "Ctrl-E",
    "itemize": "Ctrl-I"
   },
   "labels_anchors": false,
   "latex_user_defs": false,
   "report_style_numbering": false,
   "user_envs_cfg": false
  },
  "nteract": {
   "version": "0.12.3"
  }
 },
 "nbformat": 4,
 "nbformat_minor": 2
}
